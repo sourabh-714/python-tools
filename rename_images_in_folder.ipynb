{
 "cells": [
  {
   "cell_type": "code",
   "execution_count": 8,
   "metadata": {},
   "outputs": [],
   "source": [
    "import os\n",
    "os.getcwd()\n",
    "collection = \"/Users/sourabhsharma/Desktop/positive/\"\n",
    "for i, filename in enumerate(os.listdir(collection)):\n",
    "    os.rename(\"/Users/sourabhsharma/Desktop/positive/\" + filename, \"/Users/sourabhsharma/Desktop/positive/\" +\"pos\"+\"\"+ str(i) + \".wav\")"
   ]
  },
  {
   "cell_type": "code",
   "execution_count": 3,
   "metadata": {},
   "outputs": [],
   "source": [
    "import os\n",
    "os.getcwd()\n",
    "collection = \"/Users/sourabhsharma/Desktop/CT_NonCOVID/\"\n",
    "for i, filename in enumerate(os.listdir(collection)):\n",
    "    os.rename(\"/Users/sourabhsharma/Desktop/CT_NonCOVID/\" + filename, \"/Users/sourabhsharma/Desktop/CT_NonCOVID/\" +\"noncovid\"+\".\"+ str(i) + \".jpg\")"
   ]
  },
  {
   "cell_type": "code",
   "execution_count": null,
   "metadata": {},
   "outputs": [],
   "source": []
  },
  {
   "cell_type": "code",
   "execution_count": null,
   "metadata": {},
   "outputs": [],
   "source": []
  },
  {
   "cell_type": "code",
   "execution_count": null,
   "metadata": {},
   "outputs": [],
   "source": []
  }
 ],
 "metadata": {
  "kernelspec": {
   "display_name": "Python 3",
   "language": "python",
   "name": "python3"
  },
  "language_info": {
   "codemirror_mode": {
    "name": "ipython",
    "version": 3
   },
   "file_extension": ".py",
   "mimetype": "text/x-python",
   "name": "python",
   "nbconvert_exporter": "python",
   "pygments_lexer": "ipython3",
   "version": "3.7.3"
  }
 },
 "nbformat": 4,
 "nbformat_minor": 4
}
