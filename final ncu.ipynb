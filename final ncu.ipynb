{
 "cells": [
  {
   "cell_type": "code",
   "execution_count": null,
   "metadata": {},
   "outputs": [],
   "source": [
    "import re\n",
    "import csv\n",
    "import pandas as pd\n",
    "\n",
    "#enter the path of input attendance file after removving the special symbols from column1 \n",
    "x=pd.read_csv(\"/Users/sourabhsharma/Desktop/ncu/meetingAttendanceList7.csv\",encoding = \"utf-16\",sep = \"\\t\")\n",
    "\n",
    "\n",
    "\n",
    "    \n",
    "\n",
    "\n",
    "y=x[\"Full Name\"]\n",
    "l=[]\n",
    "l_list=[]\n",
    "for s in y:\n",
    "    \n",
    "    rr=re.findall(\"(\\d\\d[a-z]{3}\\d\\d\\d)\", s)\n",
    "    l.append(rr)\n",
    "    print(rr)\n",
    "\n",
    "for bb in l:\n",
    "    if bb not in l_list:\n",
    "        l_list.append(bb)\n",
    "\n",
    "\n",
    "l_list.sort()\n",
    "#print(l_list)\n",
    "        \n",
    "#if y[]== \n",
    "#print(y)\n",
    "\n",
    "df=pd.DataFrame()\n",
    "df[\"attendees roll_no\"]=l_list\n",
    "#enter the path of the output file with name\n",
    "df.to_excel('/Users/sourabhsharma/Desktop/ncu/Results.xlsx', index = False) \n",
    "\n",
    "\n",
    "#if y[]==\"ncu\"\n",
    "\n"
   ]
  }
 ],
 "metadata": {
  "kernelspec": {
   "display_name": "Python 3",
   "language": "python",
   "name": "python3"
  },
  "language_info": {
   "codemirror_mode": {
    "name": "ipython",
    "version": 3
   },
   "file_extension": ".py",
   "mimetype": "text/x-python",
   "name": "python",
   "nbconvert_exporter": "python",
   "pygments_lexer": "ipython3",
   "version": "3.7.3"
  }
 },
 "nbformat": 4,
 "nbformat_minor": 4
}
